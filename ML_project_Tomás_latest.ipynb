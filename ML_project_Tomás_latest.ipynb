{
 "cells": [
  {
   "cell_type": "markdown",
   "id": "bd8d1ab1-3a5f-48e1-973e-f20cd63ffe96",
   "metadata": {},
   "source": [
    "# Import the dataset and explore the data"
   ]
  },
  {
   "cell_type": "code",
   "execution_count": 2,
   "id": "71989db3-e70e-498d-b70e-1ce526d0cc67",
   "metadata": {},
   "outputs": [],
   "source": [
    "# Remember: library imports are ALWAYS at the top of the script, no exceptions!\n",
    "import sqlite3\n",
    "import os\n",
    "import pandas as pd\n",
    "import numpy as np\n",
    "import matplotlib.pyplot as plt\n",
    "import seaborn as sns\n",
    "from math import ceil\n",
    "import statistics\n",
    "\n",
    "# for better resolution plots\n",
    "%config InlineBackend.figure_format = 'retina' # optionally, you can change 'svg' to 'retina'\n",
    "\n",
    "# Seeting seaborn style\n",
    "sns.set()"
   ]
  },
  {
   "cell_type": "code",
   "execution_count": null,
   "id": "f1cca85d-d482-491c-a83c-fab62ebbcf02",
   "metadata": {
    "scrolled": true
   },
   "outputs": [],
   "source": [
    "wcb = pd.read_csv('train_data.csv', sep = ',')   #sep is good to seperate data\n",
    "pd.set_option('display.max_columns', None) #to be able too see all columns\n",
    "wcb.head(5)"
   ]
  },
  {
   "cell_type": "markdown",
   "id": "0b8c3a9d-e5f0-4c00-8da9-f178f42a7420",
   "metadata": {},
   "source": [
    "# Data Exploration"
   ]
  },
  {
   "cell_type": "markdown",
   "id": "47cbf32d-dc44-4dca-9489-8065aaae8c6f",
   "metadata": {},
   "source": [
    "#### Shape"
   ]
  },
  {
   "cell_type": "code",
   "execution_count": null,
   "id": "1e27b455-5676-4cfd-aac4-90704a576119",
   "metadata": {},
   "outputs": [],
   "source": [
    "wcb.shape"
   ]
  },
  {
   "cell_type": "code",
   "execution_count": null,
   "id": "c4f9df2e-c651-4e28-94c0-a3273040e85d",
   "metadata": {
    "scrolled": true
   },
   "outputs": [],
   "source": [
    "wcb.info()"
   ]
  },
  {
   "cell_type": "markdown",
   "id": "d57a48ef-7759-4eb8-97ee-968bf9193f14",
   "metadata": {},
   "source": [
    "### Any footnotes?"
   ]
  },
  {
   "cell_type": "code",
   "execution_count": null,
   "id": "33bc8f37-e500-44b1-b305-e96b216ace92",
   "metadata": {
    "scrolled": true
   },
   "outputs": [],
   "source": [
    "wcb.tail(5)\n",
    "# No, there isn't any"
   ]
  },
  {
   "cell_type": "markdown",
   "id": "44d03727-0a13-4df1-9473-b7c449d3c002",
   "metadata": {},
   "source": [
    "### Check for missing values, strange values and datatypes\n"
   ]
  },
  {
   "cell_type": "markdown",
   "id": "9a489661-1745-4084-9ae0-475f2ee23a89",
   "metadata": {},
   "source": [
    "#### Check for disposable rows or columns (with NaN, 0)\n"
   ]
  },
  {
   "cell_type": "markdown",
   "id": "b15b8435-d46e-41dd-956e-36545b61f994",
   "metadata": {},
   "source": [
    "##### For numerical data\n",
    "Columm: OIICS Nature of Injury Description <- drop <br>\n",
    "\n",
    "##### For all data\n",
    "Rows: 19445 (and 14 columns with this exact number of rows w missing values) <- drop"
   ]
  },
  {
   "cell_type": "code",
   "execution_count": null,
   "id": "6cde7c1f-ec55-4063-ace2-29328029cd55",
   "metadata": {
    "scrolled": true
   },
   "outputs": [],
   "source": [
    "wcb.info()"
   ]
  },
  {
   "cell_type": "code",
   "execution_count": null,
   "id": "de61ee5e-90b1-40bc-bdae-d3317a22d396",
   "metadata": {},
   "outputs": [],
   "source": [
    "#wcb = wcb.apply(lambda col: pd.to_numeric(col, downcast='integer', errors='coerce') if col.dtype == 'float' else col)"
   ]
  },
  {
   "cell_type": "code",
   "execution_count": null,
   "id": "8a3fadf5-f6f4-4072-8005-2a0ad4f9400e",
   "metadata": {},
   "outputs": [],
   "source": [
    "wcb_float_to_int = ['Age at Injury', 'Birth Year', 'IME-4 Count', 'Industry Code', \n",
    "                    'Agreement Reached', 'WCIO Cause of Injury Code', \n",
    "                    'WCIO Nature of Injury Code', 'WCIO Part Of Body Code', \n",
    "                    'Number of Dependents']\n",
    "\n",
    "for col in wcb_float_to_int:\n",
    "# Convert the column to a nullable integer type (Int64) while keeping NaNs\n",
    "    wcb[col] = pd.to_numeric(wcb[col], errors='coerce').astype('Int64')"
   ]
  },
  {
   "cell_type": "code",
   "execution_count": null,
   "id": "845a7885-b0b8-4a37-adc1-8b38442153ca",
   "metadata": {},
   "outputs": [],
   "source": [
    "# transformar as datas em mês e ano\n",
    "wcb['Accident Date'] = pd.to_datetime(wcb['Accident Date'], errors='coerce')\n",
    "\n",
    "# Extract year and month, and combine them into a new column\n",
    "wcb['Accident Year-Month'] = wcb['Accident Date'].dt.to_period('M')\n",
    "\n",
    "# Display the new column\n",
    "print(wcb['Accident Year-Month'])"
   ]
  },
  {
   "cell_type": "code",
   "execution_count": null,
   "id": "6d694417-f626-4a79-a128-300ea222d58f",
   "metadata": {},
   "outputs": [],
   "source": [
    "wcb = wcb[(wcb['Accident Date'].dt.year >= 2020) & (wcb['Accident Date'].dt.year <= 2022)]"
   ]
  },
  {
   "cell_type": "code",
   "execution_count": null,
   "id": "d4af628c-5d47-42df-8173-bbfd2b65ddca",
   "metadata": {},
   "outputs": [],
   "source": [
    "wcb"
   ]
  },
  {
   "cell_type": "markdown",
   "id": "dea83706-f185-45cc-951a-754cf76d259c",
   "metadata": {},
   "source": [
    "\n",
    "Check columns that sum to 0:"
   ]
  },
  {
   "cell_type": "code",
   "execution_count": null,
   "id": "6871148c-bc31-4401-a293-e85df588aca2",
   "metadata": {
    "scrolled": true
   },
   "outputs": [],
   "source": [
    "wcb.select_dtypes(include='number').sum()"
   ]
  },
  {
   "cell_type": "markdown",
   "id": "3d75fba9-089e-48d3-b41b-a1419bffac20",
   "metadata": {},
   "source": [
    "Drop column that sums to 0:"
   ]
  },
  {
   "cell_type": "code",
   "execution_count": null,
   "id": "fff0a529-8fde-416f-bf25-c01acc922579",
   "metadata": {},
   "outputs": [],
   "source": [
    "wcb.drop(columns = ['OIICS Nature of Injury Description'], inplace = True)"
   ]
  },
  {
   "cell_type": "code",
   "execution_count": null,
   "id": "f147b831-fcd5-4b43-82e2-169a48463b15",
   "metadata": {},
   "outputs": [],
   "source": [
    "wcb.info()"
   ]
  },
  {
   "cell_type": "code",
   "execution_count": null,
   "id": "3dc28045-f2fa-4b7f-91d2-67e90f0faba9",
   "metadata": {},
   "outputs": [],
   "source": [
    "wcb[['WCIO Part Of Body Code', 'WCIO Part Of Body Description']] # rever depois de fazer a correlação\n",
    "# ver também 21 a 26"
   ]
  },
  {
   "cell_type": "markdown",
   "id": "0e1b56a0-9a83-4ec2-8a15-6d3f5264b0ab",
   "metadata": {},
   "source": [
    "Check how many missing values are there per column:"
   ]
  },
  {
   "cell_type": "code",
   "execution_count": null,
   "id": "be114942-1ae5-4c7f-8923-593bd73166f3",
   "metadata": {
    "scrolled": true
   },
   "outputs": [],
   "source": [
    "wcb.isna().sum()"
   ]
  },
  {
   "cell_type": "code",
   "execution_count": null,
   "id": "f43c3b5e-8897-41aa-8b3a-379634eb20db",
   "metadata": {},
   "outputs": [],
   "source": [
    "#First we ignore the 2 columns with no missing values - since these are identifying for cases, but don't add much info about each case\n",
    "nan_columns = wcb.columns.drop(['Assembly Date', 'Claim Identifier'])\n",
    "\n",
    "# Count how many rows have all NaN values in the selected columns\n",
    "((wcb[nan_columns].isnull()) | (wcb[nan_columns] == 0)).all(axis=1).sum()"
   ]
  },
  {
   "cell_type": "code",
   "execution_count": null,
   "id": "bc5d4b15-0e81-429a-99f2-0f7c9239b88a",
   "metadata": {},
   "outputs": [],
   "source": [
    "# selecionar todas as colunas que têm valores nulos, dar drop a rows caso todas essas variaveis fossem nulas\n",
    "# eliminar targets nulos, que acabou por ser feito indiretamente neste passo\n",
    "wcb = wcb.dropna(subset = nan_columns, how = 'all')"
   ]
  },
  {
   "cell_type": "code",
   "execution_count": null,
   "id": "397c4a05-1e77-4510-ac4a-1dea3de39da8",
   "metadata": {},
   "outputs": [],
   "source": [
    "wcb.shape\n",
    "# We know have 574026 rows, less 19445 then before"
   ]
  },
  {
   "cell_type": "code",
   "execution_count": null,
   "id": "13b47c0a-f4b4-41c9-be47-b0c8c66c1782",
   "metadata": {
    "scrolled": true
   },
   "outputs": [],
   "source": [
    "#Check missing values again, after first clean-up\n",
    "wcb.isnull().sum()"
   ]
  },
  {
   "cell_type": "code",
   "execution_count": null,
   "id": "22fcf219-a18d-45e2-a768-9469ff21d66b",
   "metadata": {
    "scrolled": true
   },
   "outputs": [],
   "source": [
    "non_null_percentage = wcb.notna().mean() * 100\n",
    "\n",
    "# Convert it to a DataFrame for better display\n",
    "non_null_df = non_null_percentage.reset_index()\n",
    "non_null_df.columns = ['Variable', 'Non-Null Percentage']\n",
    "non_null_df.sort_values('Non-Null Percentage', ascending=False)"
   ]
  },
  {
   "cell_type": "code",
   "execution_count": null,
   "id": "a205005f-1cce-4779-bb7b-599e04499372",
   "metadata": {},
   "outputs": [],
   "source": [
    "wcb[wcb['WCIO Part Of Body Code'] == -9] "
   ]
  },
  {
   "cell_type": "code",
   "execution_count": null,
   "id": "0cf13db6-3bd5-4145-8c68-d094b03d3262",
   "metadata": {},
   "outputs": [],
   "source": [
    "# transformar o -9 em 9, deve ter sido um erro"
   ]
  },
  {
   "cell_type": "code",
   "execution_count": null,
   "id": "c50342c2-8751-4b98-b450-d1008018b43e",
   "metadata": {},
   "outputs": [],
   "source": [
    "wcb['IME-4 Count']"
   ]
  },
  {
   "cell_type": "code",
   "execution_count": null,
   "id": "eaca4ed4-ea75-4940-bcb1-a678b301ea23",
   "metadata": {},
   "outputs": [],
   "source": [
    "wcb['C-3 Date'] = wcb['C-3 Date'].apply(lambda x: 0 if pd.isna(x) else 1)"
   ]
  },
  {
   "cell_type": "code",
   "execution_count": null,
   "id": "978539ca-d444-4e0e-9f31-8d874d07ba00",
   "metadata": {},
   "outputs": [],
   "source": [
    "wcb['First Hearing Date'] = wcb['First Hearing Date'].apply(lambda x: 0 if pd.isna(x) else 1)"
   ]
  },
  {
   "cell_type": "code",
   "execution_count": null,
   "id": "5a34c5de-1a40-4eec-9120-c658bcbaaef7",
   "metadata": {},
   "outputs": [],
   "source": [
    "wcb['IME-4 Count']"
   ]
  },
  {
   "cell_type": "code",
   "execution_count": null,
   "id": "7c016074-e283-4402-b9d8-341b3db8bcf2",
   "metadata": {},
   "outputs": [],
   "source": [
    "non_null_percentage = wcb.notna().mean() * 100\n",
    "\n",
    "# Convert it to a DataFrame for better display\n",
    "non_null_df = non_null_percentage.reset_index()\n",
    "non_null_df.columns = ['Variable', 'Non-Null Percentage']\n",
    "non_null_df.sort_values('Non-Null Percentage', ascending=False)"
   ]
  },
  {
   "cell_type": "markdown",
   "id": "737533d6-8fcd-4e4c-a967-7d324cc14277",
   "metadata": {},
   "source": [
    "### Proposal to fill missing values (for numerical data)\n",
    "`Age at Injury`                        can be replaced with median <br>\n",
    "`Average Weekly Wage`                   can be replaced with the average weekly age per age for the rows with values <br>\n",
    "`Birth Year`                            if there is age, 2024-age at injury <br>\n",
    "`IME-4 Count`                           Number of IME-4 forms received per claim. The IME-4 form is \n",
    "the “Independent Examiner's Report of Independen  Medica \r\n",
    "Examination” for m.missing values = 0 <br>\n",
    "`Industry Code`                         <> NaN. if industry description isn't NaN, we can check code from this column <br>\n",
    "`OIICS Nature of Injury Description`  <> oiics manual 2007 downloaded   <br>\n",
    "`WCIO Cause of Injury Code`           site blocked   <br>\n",
    "`WCIO Nature of Injury Code`          site blocked   <br>\n",
    "`WCIO Part Of Body Code`              site blocked <br>r>\n",
    "`Agreement Reacd `   Binary value: Yes if there is an agreement without t heinvolvement of the WCB -> \"unknown:n at th  start of a clai -> shou d return 0 or 1 m<b>\n",
    "\n",
    "`Number of Dependents`                  this variable is not explained.  NaN we can assume it's 0 dependents <br>\n",
    "\n",
    "dtype: float64"
   ]
  },
  {
   "cell_type": "code",
   "execution_count": null,
   "id": "662c88f1-bbcd-4dce-9ccd-6753e55fe030",
   "metadata": {},
   "outputs": [],
   "source": []
  },
  {
   "cell_type": "markdown",
   "id": "49bda495-7ee1-4cf1-847c-56ae18bf7f08",
   "metadata": {},
   "source": [
    "### Datatypes:\n",
    "\n",
    "`Age at Injury` float -> int <br>\n",
    "`Birth Year` float -> int <br>\n",
    "`IME-4 Count` -> int <br>\n",
    "`Industry Code` -> int <br>\n",
    "`Agreement Reached` -> int <br>\n",
    "`WCIO Cause of Injury Code` -> int <br>\n",
    "`WCIO Nature of Injury Code` -> int <br>\n",
    "`WCIO Part Of Body Code` -> int? there are negative values! <br>\n",
    "`Number of Dependents` -> int <br>\n",
    "`C-3 Date` -> transformar numa variavel binaria <br>\n",
    "`First Hearing Date`\t-> transformar numa variavel binaria <br>"
   ]
  },
  {
   "cell_type": "markdown",
   "id": "977a2186-83fb-46df-b896-06152dc2df09",
   "metadata": {},
   "source": [
    "#### Notes"
   ]
  },
  {
   "cell_type": "markdown",
   "id": "7cee7610-f777-4c2e-9aa1-d44bd39ecaed",
   "metadata": {},
   "source": [
    "`WCIO Part Of Body Code` -> there are negative values!!! <br>\n",
    "Dados apenas de 2020 ate 2022 <br>\n",
    "Transformar a data em anos e meses <br>\n",
    "Outliers nas idades (boxplot) <br>"
   ]
  },
  {
   "cell_type": "code",
   "execution_count": null,
   "id": "bb8b0ba7-6cd1-49d2-a4ef-b9d0ff9607a8",
   "metadata": {},
   "outputs": [],
   "source": [
    "print(wcb.columns.tolist())"
   ]
  },
  {
   "cell_type": "markdown",
   "id": "9f0d020b-8f00-4613-b594-2c42dde3dbe9",
   "metadata": {},
   "source": [
    "#### Change datatypes"
   ]
  },
  {
   "cell_type": "code",
   "execution_count": null,
   "id": "50172631-1558-4b06-a6a4-f2847249f94b",
   "metadata": {},
   "outputs": [],
   "source": [
    "# Fill null values with 0 otherwise there will be error bc we can't convert non-finite numbers to integers\n",
    "\n",
    "wcb['Age at Injury'] = wcb['Age at Injury'].astype(int)\n",
    "wcb['IME-4 Count'] = wcb['IME-4 Count'].fillna(0).astype(int)\n",
    "wcb['Industry Code'] = wcb['Industry Code'].fillna(0).astype(int)\n",
    "wcb['Agreement Reached'] = wcb['Agreement Reached'].fillna(0).astype(int)\n",
    "wcb['WCIO Cause of Injury Code'] = wcb['WCIO Cause of Injury Code'].fillna(0).astype(int)\n",
    "wcb['WCIO Nature of Injury Code'] = wcb['WCIO Nature of Injury Code'].fillna(0).astype(int)\n",
    "wcb['WCIO Part Of Body Code'] = wcb['WCIO Part Of Body Code'].fillna(0).astype(int)\n",
    "wcb['Number of Dependents'] = wcb['Number of Dependents'].fillna(0).astype(int)"
   ]
  },
  {
   "cell_type": "markdown",
   "id": "39867d73-1128-43c3-8cc2-8d119ee7d787",
   "metadata": {},
   "source": [
    "### Drop Duplicates"
   ]
  },
  {
   "cell_type": "code",
   "execution_count": null,
   "id": "f932885b-eb12-4402-a68b-ed0606d8cb86",
   "metadata": {},
   "outputs": [],
   "source": [
    "wcb.duplicated().sum()\n",
    "#There is none to drop"
   ]
  },
  {
   "cell_type": "code",
   "execution_count": null,
   "id": "acdc69f9-683f-4cb0-b195-d135d088f08f",
   "metadata": {},
   "outputs": [],
   "source": [
    "duplicate_rows = wcb.duplicated()\n",
    "\n",
    "# If you want to return the entire DataFrame with only the duplicate rows:\n",
    "duplicate_rows_df = wcb[duplicate_rows]\n",
    "\n",
    "duplicate_rows_df"
   ]
  },
  {
   "cell_type": "markdown",
   "id": "59965f5c-0fcb-478b-bf1f-43150cd87aa1",
   "metadata": {},
   "source": [
    "### Choose column for index\n",
    "`Claim Identifier` ->returns unique values and there is one identifying value for each row/case"
   ]
  },
  {
   "cell_type": "code",
   "execution_count": null,
   "id": "6ece7756-5654-4aac-9d65-c2c52b4916b8",
   "metadata": {},
   "outputs": [],
   "source": [
    "#Check which unique values there are for this column and store as variable\n",
    "id_claim = wcb['Claim Identifier'].unique()\n",
    "#count all unique values and see if its the same number as total rows\n",
    "len(id_claim) == len(wcb)"
   ]
  },
  {
   "cell_type": "code",
   "execution_count": null,
   "id": "7642d483-1fe6-4599-ad5d-4e268c4864d5",
   "metadata": {},
   "outputs": [],
   "source": [
    "wcb = wcb.set_index('Claim Identifier')"
   ]
  },
  {
   "cell_type": "markdown",
   "id": "7ddcb825-b671-47b5-96a5-978d73c36621",
   "metadata": {},
   "source": [
    "## Categorical Data\n",
    "Understand unique values <br>\n",
    "\n",
    "`Accident Date` <br>\n",
    "`Alternative Dispute Resolution` <br>\n",
    "`Assembly Date` <br>\r",
    "`'Attorney/Representativ` <br>\n",
    "`'C-2 Dat`, <br>\n",
    "`'C-3 Dat` <br>,\n",
    "`'Carrier Nam` <br>,` 'Carrier Ty` <br>'\n",
    "` 'Claim Injury Ty` <br>'\n",
    "` 'County of Inju` <br>'`  'COVID-19 Indica` <br>r\n",
    "`, 'District N` <br>e\n",
    "`, 'First Hearing D` <br>e\n",
    "`, 'Gen` <br>\n",
    "   \n",
    "`   'Industry Code Descrip` <br>o\n",
    "`', 'Medical Fee Re` <br>o`    'WCIO Cause of Injury Descri` <br>i\n",
    "`n', 'WCIO Nature of Injury Descri` <br>i`     'WCIO Part Of Body Descr` <br>t\n",
    "`on', 'Zi`  <br>C\n",
    "`de', 'WCB De` <br>ision'Decision'"
   ]
  },
  {
   "cell_type": "markdown",
   "id": "5a4db1eb-a2b5-45b5-9bd3-f72bde663dfd",
   "metadata": {},
   "source": [
    "### Notes\n",
    "`WCB Decision` is always 'not work related' <br>\n",
    "`Gender`returns M, F, Y, U -> what does Y and U stand for?"
   ]
  },
  {
   "cell_type": "code",
   "execution_count": null,
   "id": "e615acb7-7d7d-467e-b854-3dad324430c6",
   "metadata": {
    "scrolled": true
   },
   "outputs": [],
   "source": [
    "categorical = wcb.select_dtypes(include=['object', 'category'])\n",
    "categorical.columns"
   ]
  },
  {
   "cell_type": "code",
   "execution_count": null,
   "id": "124c6ccd-3f0a-4c08-9280-eefb154a81b3",
   "metadata": {
    "scrolled": true
   },
   "outputs": [],
   "source": [
    "wcb.describe(include=['object', 'category']).T"
   ]
  },
  {
   "cell_type": "code",
   "execution_count": null,
   "id": "9142fa22-0be7-434e-88a8-87645467bccc",
   "metadata": {
    "scrolled": true
   },
   "outputs": [],
   "source": [
    "unique = wcb.select_dtypes(include=['object', 'category']).apply(lambda x: x.unique(), axis=0)\n",
    "pd.set_option('display.max_colwidth', 100)  # No limit on column width\n",
    "unique"
   ]
  },
  {
   "cell_type": "code",
   "execution_count": null,
   "id": "6d37a969-d040-4f7b-9aee-54f756f19722",
   "metadata": {},
   "outputs": [],
   "source": [
    "wcb['WCB Decision'].unique()"
   ]
  },
  {
   "cell_type": "code",
   "execution_count": null,
   "id": "bbea89fe-75db-4de3-8c9a-a83dd68b9b2b",
   "metadata": {},
   "outputs": [],
   "source": [
    "wcb['Alternative Dispute Resolution'].unique()"
   ]
  },
  {
   "cell_type": "code",
   "execution_count": null,
   "id": "589c71db-8b3f-481b-9bb5-0bc8604aca21",
   "metadata": {},
   "outputs": [],
   "source": [
    "wcb['Carrier Name'].unique()"
   ]
  },
  {
   "cell_type": "code",
   "execution_count": null,
   "id": "9f81bc59-59dc-465d-a55f-d8e76b6c6724",
   "metadata": {},
   "outputs": [],
   "source": [
    "wcb['Gender'].unique()"
   ]
  },
  {
   "cell_type": "code",
   "execution_count": null,
   "id": "224ecee4-ab6e-49e6-a8dc-a1ebc09b1214",
   "metadata": {},
   "outputs": [],
   "source": [
    "wcb['Medical Fee Region'].unique()"
   ]
  },
  {
   "cell_type": "code",
   "execution_count": null,
   "id": "624bbfc7-c98b-49d8-9ccf-19f305549dab",
   "metadata": {},
   "outputs": [],
   "source": [
    "wcb['District Name'].unique()"
   ]
  },
  {
   "cell_type": "code",
   "execution_count": null,
   "id": "0517c33d-590a-4629-9f3b-80feed5a28e7",
   "metadata": {},
   "outputs": [],
   "source": [
    "wcb['Claim Injury Type'].unique()"
   ]
  },
  {
   "cell_type": "code",
   "execution_count": null,
   "id": "7ec76dd9-3215-4d54-834d-5ea5f0b70d00",
   "metadata": {},
   "outputs": [],
   "source": [
    "wcb['WCB Decision'].unique()"
   ]
  },
  {
   "cell_type": "markdown",
   "id": "41d41b21-a811-4232-90c5-5907feeff51b",
   "metadata": {},
   "source": [
    "### Make sure the metrics are reasonable numbers, depending on the context of each variable\n",
    "Especially mean, max, min"
   ]
  },
  {
   "cell_type": "code",
   "execution_count": null,
   "id": "53eb17df-9a9e-47a8-9f64-90a0ab494296",
   "metadata": {
    "scrolled": true
   },
   "outputs": [],
   "source": [
    "wcb.describe(include='number').T"
   ]
  },
  {
   "cell_type": "markdown",
   "id": "2a1b741e-c303-44f8-815e-58f7de298b4d",
   "metadata": {},
   "source": [
    "# Aggregations to comprehend data"
   ]
  },
  {
   "cell_type": "code",
   "execution_count": null,
   "id": "6b7f674b-aa0e-4906-9474-95203ca16768",
   "metadata": {
    "scrolled": true
   },
   "outputs": [],
   "source": [
    "wcb.columns"
   ]
  },
  {
   "cell_type": "code",
   "execution_count": null,
   "id": "7d4e8f9a-acdf-46f0-90aa-5254e911b6ac",
   "metadata": {
    "scrolled": true
   },
   "outputs": [],
   "source": [
    "wcb.groupby(['Claim Injury Type','Gender']).agg({'Average Weekly Wage':['mean', 'min', 'max']})"
   ]
  },
  {
   "cell_type": "code",
   "execution_count": null,
   "id": "385c0140-83d6-4af7-a1da-00cf15927425",
   "metadata": {
    "scrolled": true
   },
   "outputs": [],
   "source": [
    "wcb.groupby(['Claim Injury Type','District Name']).agg({'Age at Injury':['mean', 'min', 'max'], 'Average Weekly Wage':['mean', 'min', 'max']})"
   ]
  },
  {
   "cell_type": "code",
   "execution_count": null,
   "id": "cb6de892-a6f1-42d0-a3ef-7307ec84c314",
   "metadata": {
    "scrolled": true
   },
   "outputs": [],
   "source": [
    "wcb.groupby('Age at Injury').agg({'Number of Dependents':['mean', 'min', 'max']})"
   ]
  },
  {
   "cell_type": "markdown",
   "id": "01ae9a80-6a3d-4108-ab69-83e0ebde0757",
   "metadata": {},
   "source": [
    "# Split of data\n",
    "\n",
    "## Fit and scaling\n",
    "\n"
   ]
  },
  {
   "cell_type": "code",
   "execution_count": null,
   "id": "d1af3d23-f15a-4155-bcd3-756914453aa3",
   "metadata": {},
   "outputs": [],
   "source": []
  },
  {
   "cell_type": "markdown",
   "id": "5a68e4df-1d80-41f2-8ad5-4d5ce1c2d5f0",
   "metadata": {},
   "source": [
    "# Visualizations\n",
    "for outliers analysis, and more in-depth conclusions"
   ]
  },
  {
   "cell_type": "markdown",
   "id": "d35468d4-5764-432c-b4c7-345ebac498b1",
   "metadata": {},
   "source": [
    "## Day of the year (date) - needs improvement"
   ]
  },
  {
   "cell_type": "code",
   "execution_count": null,
   "id": "62081f88-00a6-4386-8f7a-4b54bdb64b6f",
   "metadata": {
    "scrolled": true
   },
   "outputs": [],
   "source": [
    "wcb['Day of Year'] = wcb['Accident Date'].dt.dayofyear"
   ]
  },
  {
   "cell_type": "code",
   "execution_count": null,
   "id": "2d747ac4-a66b-45d8-9e15-bc9db94b6a0d",
   "metadata": {},
   "outputs": [],
   "source": [
    "# Map Gender to numerical values (e.g., 0 for Male, 1 for Female)\n",
    "wcb['Gender Numeric'] = wcb['Gender'].map({'M': 0, 'F': 1})"
   ]
  },
  {
   "cell_type": "code",
   "execution_count": null,
   "id": "5b70d0e6-6d75-4946-9113-835ff109e427",
   "metadata": {},
   "outputs": [],
   "source": [
    "# Create the scatter plot\n",
    "plt.figure(figsize=(12, 6))\n",
    "plt.scatter(wcb['Day of Year'], wcb['Gender Numeric'], alpha=0.6, color='skyblue')\n",
    "\n",
    "# Add labels and title\n",
    "plt.title('Scatter Plot of Accident Date vs Gender', fontsize=14)\n",
    "plt.xlabel('Day of the Year (Accident Date)', fontsize=12)\n",
    "plt.ylabel('Gender (0=M, 1=F)', fontsize=12)\n",
    "\n",
    "# Customizing the y-ticks for better interpretation\n",
    "plt.yticks([0, 1], ['M', 'F'])\n",
    "\n",
    "# Show the plot\n",
    "plt.show()"
   ]
  },
  {
   "cell_type": "markdown",
   "id": "63cbbd53-03f4-4cfb-a683-39f9136412d0",
   "metadata": {},
   "source": [
    "## Age at Injury"
   ]
  },
  {
   "cell_type": "code",
   "execution_count": null,
   "id": "8998291b-12b0-4b40-8094-2256695571e3",
   "metadata": {},
   "outputs": [],
   "source": [
    "# Define age categories\n",
    "bins = [0, 17, 30, 40, 50, 60, 74, 100]\n",
    "labels = ['0-17', '18-30', '31-40', '41-50', '51-60', '61-74', '75+']\n",
    "\n",
    "# Create a new column for age categories\n",
    "wcb['Age Category'] = pd.cut(wcb['Age at Injury'], bins=bins, labels=labels, right=False)"
   ]
  },
  {
   "cell_type": "code",
   "execution_count": null,
   "id": "8b649b37-33cd-4099-9a1e-8a5725580dc6",
   "metadata": {},
   "outputs": [],
   "source": [
    "# Count the number of occurrences in each age category\n",
    "age_distribution = wcb['Age Category'].value_counts()"
   ]
  },
  {
   "cell_type": "code",
   "execution_count": null,
   "id": "a41c8b9d-5dcb-433d-b173-b9fdd0820a20",
   "metadata": {},
   "outputs": [],
   "source": [
    "# Plot the pie chart\n",
    "plt.figure(figsize=(7, 7))  # Set the figure size\n",
    "\n",
    "age_distribution.plot(kind='pie', autopct='%1.1f%%', colors=['skyblue', 'lightgreen', 'coral', 'orange', 'purple', 'yellow', 'pink'])\n",
    "\n",
    "# Customize the plot\n",
    "plt.title('Age Distribution of Accidents')\n",
    "plt.ylabel('')  # Remove the default y-label (which shows \"Age Category\")\n",
    "\n",
    "# Show the plot\n",
    "plt.show()"
   ]
  },
  {
   "cell_type": "code",
   "execution_count": null,
   "id": "85a671d1-4b66-4e4e-9012-1caaf963352d",
   "metadata": {
    "scrolled": true
   },
   "outputs": [],
   "source": [
    "wcb['Age at Injury'].plot(kind='box')"
   ]
  },
  {
   "cell_type": "code",
   "execution_count": null,
   "id": "ce667b68-74d6-41be-80ab-65654b897365",
   "metadata": {},
   "outputs": [],
   "source": [
    "statistics.variance(wcb['Age at Injury'].dropna())"
   ]
  },
  {
   "cell_type": "markdown",
   "id": "fa041281-e4a9-4488-8530-5279e333800f",
   "metadata": {},
   "source": [
    "## Histograms of all variables"
   ]
  },
  {
   "cell_type": "code",
   "execution_count": null,
   "id": "726c6166-56c8-404c-83b9-526c24c1f445",
   "metadata": {},
   "outputs": [],
   "source": [
    "# Step 2: Loop through each column (variable) and create a histogram\n",
    "for i in range(len(wcb.columns)):\n",
    "    column_name = wcb.columns[i]  # Get the column name\n",
    "    plt.figure(figsize=(8, 5))  # Optional: Set figure size for better visuals\n",
    "    plt.hist(wcb[column_name].dropna(), bins=30, edgecolor='k', alpha=0.7)  # Drop NaNs and create the histogram\n",
    "    plt.title(f'Histogram of {column_name}')\n",
    "    plt.xlabel(column_name)\n",
    "    plt.ylabel('Frequency')\n",
    "    plt.grid(True)  # Optional: Add grid\n",
    "    plt.show()  # Display the plot"
   ]
  },
  {
   "cell_type": "code",
   "execution_count": null,
   "id": "f92c5b62-a03e-467e-b6cd-132548dac522",
   "metadata": {},
   "outputs": [],
   "source": [
    "wcb['Gender'].value_counts().plot(kind='bar')"
   ]
  },
  {
   "cell_type": "code",
   "execution_count": null,
   "id": "bcb1aedc-6d9d-4e23-9fad-9183680d4390",
   "metadata": {},
   "outputs": [],
   "source": [
    "wcb['Alternative Dispute Resolution'].value_counts().plot(kind='bar')"
   ]
  },
  {
   "cell_type": "markdown",
   "id": "9027aaec-f14e-4dc8-b9d3-f33e59b6838e",
   "metadata": {},
   "source": [
    "## Correlation Matrix"
   ]
  },
  {
   "cell_type": "code",
   "execution_count": null,
   "id": "e6862dbb-766b-44ec-b535-de89ab69af40",
   "metadata": {},
   "outputs": [],
   "source": [
    "# Step 1: Select only numerical columns\n",
    "wcb = wcb.drop('OIICS Nature of Injury Description', axis=1)\n",
    "numerical_df = wcb.select_dtypes(include='number')\n",
    "\n",
    "# Step 2: Calculate the correlation matrix\n",
    "correlation_matrix = numerical_df.corr()\n",
    "\n",
    "# Step 3: Visualize the correlation matrix\n",
    "plt.figure(figsize=(10, 8))  # Optional: Adjusts the size of the plot\n",
    "sns.heatmap(correlation_matrix, annot=True, cmap='coolwarm', linewidths=0.5)\n",
    "\n",
    "# Display the plot\n",
    "plt.title('Correlation Matrix (Numerical Variables Only)')\n",
    "plt.show()"
   ]
  },
  {
   "cell_type": "code",
   "execution_count": null,
   "id": "e715adec-5cd9-494b-a5d8-3ec213b13b4c",
   "metadata": {},
   "outputs": [],
   "source": []
  },
  {
   "cell_type": "code",
   "execution_count": null,
   "id": "fc96930d-047c-44a1-92d9-5fcf540b48f0",
   "metadata": {},
   "outputs": [],
   "source": []
  },
  {
   "cell_type": "code",
   "execution_count": null,
   "id": "87b44999-0168-4f1c-919a-23842b5f5761",
   "metadata": {},
   "outputs": [],
   "source": []
  }
 ],
 "metadata": {
  "kernelspec": {
   "display_name": "Python 3 (ipykernel)",
   "language": "python",
   "name": "python3"
  },
  "language_info": {
   "codemirror_mode": {
    "name": "ipython",
    "version": 3
   },
   "file_extension": ".py",
   "mimetype": "text/x-python",
   "name": "python",
   "nbconvert_exporter": "python",
   "pygments_lexer": "ipython3",
   "version": "3.12.4"
  }
 },
 "nbformat": 4,
 "nbformat_minor": 5
}
