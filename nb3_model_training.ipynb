{
 "cells": [
  {
   "cell_type": "markdown",
   "id": "bd8d1ab1-3a5f-48e1-973e-f20cd63ffe96",
   "metadata": {},
   "source": [
    "# Import the Dataset and Explore the Data <a name=\"import-the-dataset-and-explore-the-data\"></a>\r\n"
   ]
  },
  {
   "cell_type": "markdown",
   "id": "bec2c4a3-32c6-4bb2-8736-1e8f4a5f7d0d",
   "metadata": {},
   "source": [
    "## 1.1 Importing Libraries <a name=\"11-importing-libraries\"></a>\n"
   ]
  },
  {
   "cell_type": "code",
   "execution_count": 13,
   "id": "71989db3-e70e-498d-b70e-1ce526d0cc67",
   "metadata": {},
   "outputs": [],
   "source": [
    "import pandas as pd\n",
    "import numpy as np\n",
    "import matplotlib.pyplot as plt\n",
    "import seaborn as sns\n",
    "import statistics\n",
    "from sklearn.preprocessing import MinMaxScaler, OneHotEncoder, LabelEncoder\n",
    "from sklearn.compose import ColumnTransformer\n",
    "from sklearn.pipeline import Pipeline\n",
    "#from kmodes.kmodes import KModes\n",
    "from math import ceil\n",
    "\n",
    "from sklearn.model_selection import train_test_split\n",
    "import scipy.stats as stats\n",
    "from sklearn.ensemble import RandomForestClassifier, RandomForestRegressor\n",
    "from sklearn.tree import DecisionTreeClassifier, DecisionTreeRegressor\n",
    "from sklearn.linear_model import LogisticRegression\n",
    "from sklearn.metrics import accuracy_score, precision_score, recall_score, f1_score, confusion_matrix, classification_report\n",
    "from sklearn.neighbors import KNeighborsClassifier\n",
    "\n",
    "from scipy.stats import chi2_contingency\n",
    "\n",
    "#wrapper methods\n",
    "from sklearn.linear_model import LogisticRegression\n",
    "from sklearn.svm import SVC\n",
    "\n",
    "from sklearn.feature_selection import RFE\n",
    "from sklearn.model_selection import GridSearchCV\n",
    "from sklearn.pipeline import Pipeline\n",
    "\n",
    "# embedded methods\n",
    "from sklearn.linear_model import LassoCV\n",
    "\n",
    "import warnings\n",
    "warnings.filterwarnings('ignore')\n",
    "\n",
    "\n",
    "# for better resolution plots\n",
    "%config InlineBackend.figure_format = 'retina' # optionally, you can change 'svg' to 'retina'\n",
    "\n",
    "# Seeting seaborn style\n",
    "sns.set()"
   ]
  },
  {
   "cell_type": "markdown",
   "id": "e6816e73-c17b-4a48-ab83-297c2f18774f",
   "metadata": {},
   "source": [
    "## Loading the variables from previous notebook"
   ]
  },
  {
   "cell_type": "code",
   "execution_count": 9,
   "id": "c86bf8a5-7da1-4c4e-8f55-9be2b76ca9c9",
   "metadata": {},
   "outputs": [
    {
     "data": {
      "text/plain": [
       "['Age at Injury',\n",
       " 'Alternative Dispute Resolution',\n",
       " 'Attorney/Representative',\n",
       " 'Average Weekly Wage',\n",
       " 'Carrier Name',\n",
       " 'County of Injury',\n",
       " 'COVID-19 Indicator',\n",
       " 'Gender',\n",
       " 'IME-4 Count',\n",
       " 'Industry Code',\n",
       " 'WCIO Cause of Injury Code',\n",
       " 'WCIO Nature of Injury Code',\n",
       " 'WCIO Part Of Body Code',\n",
       " 'Zip Code',\n",
       " 'Number of Dependents',\n",
       " 'First Hearing',\n",
       " 'C-3 Delivery',\n",
       " 'C-2 Delivery',\n",
       " 'Days from Accident to C-2',\n",
       " 'Forms Delivered Count',\n",
       " 'Claim Antiguity',\n",
       " 'Valid Full Claim',\n",
       " 'C-3 under Deadline_no info',\n",
       " 'C-3 under Deadline_yes',\n",
       " 'Carrier Type_2']"
      ]
     },
     "execution_count": 9,
     "metadata": {},
     "output_type": "execute_result"
    }
   ],
   "source": [
    "from variables import feature_selection, selected_features_rf, selected_features_dt, selected_features_rfe #, selected_features_svm\n",
    "\n",
    "feature_selection"
   ]
  },
  {
   "cell_type": "markdown",
   "id": "56c33277-dc17-4253-8111-87f2f14440e9",
   "metadata": {},
   "source": [
    "## Loading the previous Datasets <a name=\"12-loading-and-reading-the-dataset\"></a>\r\n"
   ]
  },
  {
   "cell_type": "code",
   "execution_count": 18,
   "id": "f1cca85d-d482-491c-a83c-fab62ebbcf02",
   "metadata": {
    "scrolled": true
   },
   "outputs": [],
   "source": [
    "X_train_processed = pd.read_csv('X_train_processed.csv', index_col=0)\n",
    "X_val_processed= pd.read_csv('X_val_processed.csv', index_col=0)\n",
    "X_test_processed = pd.read_csv('X_test_processed.csv', index_col=0)"
   ]
  },
  {
   "cell_type": "code",
   "execution_count": 27,
   "id": "c2b56247-84f3-42fb-aab2-86346f722f65",
   "metadata": {
    "scrolled": true
   },
   "outputs": [],
   "source": [
    "X_train_processed_copy = pd.read_csv('X_train_processed_copy.csv', index_col=0)\n",
    "X_val_processed_copy = pd.read_csv('X_val_processed_copy.csv', index_col=0)\n",
    "X_test_processed_copy = pd.read_csv('X_test_processed_copy.csv', index_col=0)"
   ]
  },
  {
   "cell_type": "code",
   "execution_count": 29,
   "id": "f4809bbf-f751-42fb-8c97-cf847e9e050a",
   "metadata": {},
   "outputs": [],
   "source": [
    "y_train = pd.read_csv(\"y_train.csv\", index_col=0)\n",
    "y_val = pd.read_csv(\"y_val.csv\", index_col=0)\n",
    "#uploading it as a 1-column dataframe while preserving its index, to make sure it aligns"
   ]
  },
  {
   "cell_type": "code",
   "execution_count": 31,
   "id": "6e449648-bd13-40ad-ae10-e25a81a512b9",
   "metadata": {},
   "outputs": [],
   "source": [
    "y_train = y_train.iloc[:, 0]\n",
    "y_val = y_val.iloc[:, 0]\n",
    "#turning it back into a panda series, so i can perform certain operations like Chi-Square Independence Test"
   ]
  },
  {
   "cell_type": "markdown",
   "id": "477a3530-f9dc-4bea-b996-1b6ab267be3c",
   "metadata": {},
   "source": [
    "## Prepare datasets with selected features for each model"
   ]
  },
  {
   "cell_type": "code",
   "execution_count": 36,
   "id": "567f3a55-c92c-40a3-ab0c-df56c64ecb3f",
   "metadata": {},
   "outputs": [],
   "source": [
    "X_train_rf = X_train_processed_copy[selected_features_rf]"
   ]
  },
  {
   "cell_type": "code",
   "execution_count": 40,
   "id": "bed2370d-71a7-4480-a932-5ea4a4b4d7b5",
   "metadata": {},
   "outputs": [],
   "source": [
    "X_val_rf = X_val_processed_copy[selected_features_rf]"
   ]
  },
  {
   "cell_type": "code",
   "execution_count": 48,
   "id": "f62e9171-1575-4352-a3e3-243212525245",
   "metadata": {},
   "outputs": [],
   "source": [
    "X_train = X_train_processed[feature_selection]"
   ]
  },
  {
   "cell_type": "code",
   "execution_count": 52,
   "id": "d1c52567-06a9-4998-b899-d4f76a4c5a39",
   "metadata": {},
   "outputs": [],
   "source": [
    "X_val = X_val_processed[feature_selection]"
   ]
  },
  {
   "cell_type": "code",
   "execution_count": 59,
   "id": "27cc3c32-cad9-4839-9f47-4a47779d845b",
   "metadata": {},
   "outputs": [
    {
     "data": {
      "text/plain": [
       "['Age at Injury',\n",
       " 'Alternative Dispute Resolution',\n",
       " 'Attorney/Representative',\n",
       " 'Average Weekly Wage',\n",
       " 'Carrier Name',\n",
       " 'County of Injury',\n",
       " 'COVID-19 Indicator',\n",
       " 'Gender',\n",
       " 'IME-4 Count',\n",
       " 'Industry Code',\n",
       " 'WCIO Cause of Injury Code',\n",
       " 'WCIO Nature of Injury Code',\n",
       " 'WCIO Part Of Body Code',\n",
       " 'Zip Code',\n",
       " 'Number of Dependents',\n",
       " 'First Hearing',\n",
       " 'C-3 Delivery',\n",
       " 'C-2 Delivery',\n",
       " 'Days from Accident to C-2',\n",
       " 'Forms Delivered Count',\n",
       " 'Claim Antiguity',\n",
       " 'Valid Full Claim',\n",
       " 'C-3 under Deadline_no info',\n",
       " 'C-3 under Deadline_yes',\n",
       " 'Carrier Type_2']"
      ]
     },
     "execution_count": 59,
     "metadata": {},
     "output_type": "execute_result"
    }
   ],
   "source": [
    "feature_selection"
   ]
  },
  {
   "cell_type": "markdown",
   "id": "c0446885-4903-479f-b063-34e997ad3f79",
   "metadata": {},
   "source": [
    "# 6. Model Assessment and Selection"
   ]
  },
  {
   "cell_type": "markdown",
   "id": "c304f9f4-58ef-45b5-a42e-f138dccccbfc",
   "metadata": {},
   "source": [
    "## Random Forest"
   ]
  },
  {
   "cell_type": "code",
   "execution_count": 54,
   "id": "edbcdc3f",
   "metadata": {},
   "outputs": [
    {
     "name": "stdout",
     "output_type": "stream",
     "text": [
      "Accuracy: 0.71\n",
      "Confusion Matrix:\n",
      "[[ 1729  1507   132   311    34     0     0    30]\n",
      " [  894 77213  1358  7454   343     0     0    62]\n",
      " [   38  9698  1266  7495  2072    23     0    80]\n",
      " [   32  3342   668 31758  8320   230     0   202]\n",
      " [    0   130    71  4726  9394    95     0    68]\n",
      " [    0     1     2   774   471    13     0     2]\n",
      " [    0     0     0    19     9     0     0     1]\n",
      " [    0    11     9    46     8     0     0    67]]\n",
      "\n",
      "Classification Report:\n",
      "              precision    recall  f1-score   support\n",
      "\n",
      "           1       0.64      0.46      0.54      3743\n",
      "           2       0.84      0.88      0.86     87324\n",
      "           3       0.36      0.06      0.10     20672\n",
      "           4       0.60      0.71      0.65     44552\n",
      "           5       0.45      0.65      0.53     14484\n",
      "           6       0.04      0.01      0.02      1263\n",
      "           7       0.00      0.00      0.00        29\n",
      "           8       0.13      0.48      0.21       141\n",
      "\n",
      "    accuracy                           0.71    172208\n",
      "   macro avg       0.38      0.41      0.36    172208\n",
      "weighted avg       0.68      0.71      0.68    172208\n",
      "\n"
     ]
    }
   ],
   "source": [
    "model = RandomForestClassifier(\n",
    "    n_estimators=300,  # Aumenta o número de árvores\n",
    "    max_depth=20,  # Limita a profundidade máxima das árvores\n",
    "    min_samples_split=5,  # Define o número mínimo de amostras para dividir um nó\n",
    "    min_samples_leaf=2,  # Define o número mínimo de amostras em uma folha\n",
    "    max_features='sqrt',  # Limita o número de variáveis consideradas em cada divisão\n",
    "    class_weight='balanced',  # Ajusta pesos para lidar com classes desbalanceadas\n",
    "    random_state=42\n",
    ")\n",
    "\n",
    "model.fit(X_train, y_train)\n",
    "\n",
    "y_pred = model.predict(X_val)\n",
    "\n",
    "accuracy = accuracy_score(y_val, y_pred)\n",
    "conf_matrix = confusion_matrix(y_val, y_pred)\n",
    "class_report = classification_report(y_val, y_pred)\n",
    "\n",
    "print(f\"Accuracy: {accuracy:.2f}\")\n",
    "print(\"Confusion Matrix:\")\n",
    "print(conf_matrix)\n",
    "print(\"\\nClassification Report:\")\n",
    "print(class_report)"
   ]
  },
  {
   "cell_type": "code",
   "execution_count": 55,
   "id": "cf4a92b4-79cf-4167-bcfe-50848baf2bce",
   "metadata": {},
   "outputs": [
    {
     "name": "stdout",
     "output_type": "stream",
     "text": [
      "Class distribution in y_val: Claim Injury Type\n",
      "2    87324\n",
      "4    44552\n",
      "3    20672\n",
      "5    14484\n",
      "1     3743\n",
      "6     1263\n",
      "8      141\n",
      "7       29\n",
      "Name: count, dtype: int64\n",
      "Class distribution in y_pred: 2    91902\n",
      "4    52583\n",
      "5    20651\n",
      "3     3506\n",
      "1     2693\n",
      "8      512\n",
      "6      361\n",
      "Name: count, dtype: int64\n"
     ]
    }
   ],
   "source": [
    "print(\"Class distribution in y_val:\", y_val.value_counts())\n",
    "print(\"Class distribution in y_pred:\", pd.Series(y_pred).value_counts())"
   ]
  },
  {
   "cell_type": "code",
   "execution_count": 771,
   "id": "bb9016ba-d480-46e8-9e19-597bc6b79b65",
   "metadata": {},
   "outputs": [],
   "source": [
    "y_train = model.predict(X_train_scaled_fs)"
   ]
  },
  {
   "cell_type": "code",
   "execution_count": 772,
   "id": "43701dea-85eb-45c9-bfdc-373f7cb69556",
   "metadata": {},
   "outputs": [
    {
     "data": {
      "text/plain": [
       "array([[ 1066,  1254,    90,    80,     6,     0,     0,     0],\n",
       "       [  626, 54223,   806,  2522,    34,     0,     0,     5],\n",
       "       [   15,  6828,  1326,  4786,   806,    15,     0,     5],\n",
       "       [   16,  1019,   586, 24875,  2903,   273,     0,    30],\n",
       "       [    0,    14,    49,  3703,  5759,   120,     0,    11],\n",
       "       [    0,     1,    11,   555,   233,    41,     0,     1],\n",
       "       [    0,     0,     0,    14,     5,     0,     0,     0],\n",
       "       [    2,    14,     9,    31,     1,     0,     0,    37]],\n",
       "      dtype=int64)"
      ]
     },
     "execution_count": 772,
     "metadata": {},
     "output_type": "execute_result"
    }
   ],
   "source": [
    "confusion_matrix(y_val, y_pred)"
   ]
  },
  {
   "cell_type": "code",
   "execution_count": 773,
   "id": "17d2c742-1c27-497e-893c-68ed44f36c7e",
   "metadata": {},
   "outputs": [
    {
     "data": {
      "text/plain": [
       "0.7606483981673432"
      ]
     },
     "execution_count": 773,
     "metadata": {},
     "output_type": "execute_result"
    }
   ],
   "source": [
    "accuracy_score(y_val, y_pred)"
   ]
  },
  {
   "cell_type": "code",
   "execution_count": 774,
   "id": "6f774039-7a35-45ec-8563-4460af32d04b",
   "metadata": {
    "scrolled": true
   },
   "outputs": [
    {
     "data": {
      "text/plain": [
       "0.464115529053868"
      ]
     },
     "execution_count": 774,
     "metadata": {},
     "output_type": "execute_result"
    }
   ],
   "source": [
    "precision_score(y_val, y_pred, average='macro')  # or 'micro' or 'weighted'\n"
   ]
  },
  {
   "cell_type": "code",
   "execution_count": 775,
   "id": "3902c540-7198-425f-9bfb-ddde15a2a919",
   "metadata": {},
   "outputs": [
    {
     "data": {
      "text/plain": [
       "0.4163658011919117"
      ]
     },
     "execution_count": 775,
     "metadata": {},
     "output_type": "execute_result"
    }
   ],
   "source": [
    "recall_score(y_val, y_pred, average='macro')  # or 'micro' or 'weighted'"
   ]
  },
  {
   "cell_type": "code",
   "execution_count": 776,
   "id": "faf851b2-856f-486e-bdb8-af112331d2ee",
   "metadata": {},
   "outputs": [
    {
     "data": {
      "text/plain": [
       "0.42107458018466154"
      ]
     },
     "execution_count": 776,
     "metadata": {},
     "output_type": "execute_result"
    }
   ],
   "source": [
    "f1_score(y_val, y_pred, average='macro')"
   ]
  },
  {
   "cell_type": "markdown",
   "id": "c5e570ee-569f-487c-8d2a-42981bee723b",
   "metadata": {},
   "source": [
    "## KNN"
   ]
  },
  {
   "cell_type": "code",
   "execution_count": 789,
   "id": "f1a8b329-5d84-4297-affc-e27df724bd99",
   "metadata": {},
   "outputs": [],
   "source": [
    "modelKNN = KNeighborsClassifier()"
   ]
  },
  {
   "cell_type": "code",
   "execution_count": 791,
   "id": "a0593cf3-f9ca-41fc-907d-a8770268e2fb",
   "metadata": {},
   "outputs": [
    {
     "data": {
      "text/html": [
       "<style>#sk-container-id-2 {\n",
       "  /* Definition of color scheme common for light and dark mode */\n",
       "  --sklearn-color-text: black;\n",
       "  --sklearn-color-line: gray;\n",
       "  /* Definition of color scheme for unfitted estimators */\n",
       "  --sklearn-color-unfitted-level-0: #fff5e6;\n",
       "  --sklearn-color-unfitted-level-1: #f6e4d2;\n",
       "  --sklearn-color-unfitted-level-2: #ffe0b3;\n",
       "  --sklearn-color-unfitted-level-3: chocolate;\n",
       "  /* Definition of color scheme for fitted estimators */\n",
       "  --sklearn-color-fitted-level-0: #f0f8ff;\n",
       "  --sklearn-color-fitted-level-1: #d4ebff;\n",
       "  --sklearn-color-fitted-level-2: #b3dbfd;\n",
       "  --sklearn-color-fitted-level-3: cornflowerblue;\n",
       "\n",
       "  /* Specific color for light theme */\n",
       "  --sklearn-color-text-on-default-background: var(--sg-text-color, var(--theme-code-foreground, var(--jp-content-font-color1, black)));\n",
       "  --sklearn-color-background: var(--sg-background-color, var(--theme-background, var(--jp-layout-color0, white)));\n",
       "  --sklearn-color-border-box: var(--sg-text-color, var(--theme-code-foreground, var(--jp-content-font-color1, black)));\n",
       "  --sklearn-color-icon: #696969;\n",
       "\n",
       "  @media (prefers-color-scheme: dark) {\n",
       "    /* Redefinition of color scheme for dark theme */\n",
       "    --sklearn-color-text-on-default-background: var(--sg-text-color, var(--theme-code-foreground, var(--jp-content-font-color1, white)));\n",
       "    --sklearn-color-background: var(--sg-background-color, var(--theme-background, var(--jp-layout-color0, #111)));\n",
       "    --sklearn-color-border-box: var(--sg-text-color, var(--theme-code-foreground, var(--jp-content-font-color1, white)));\n",
       "    --sklearn-color-icon: #878787;\n",
       "  }\n",
       "}\n",
       "\n",
       "#sk-container-id-2 {\n",
       "  color: var(--sklearn-color-text);\n",
       "}\n",
       "\n",
       "#sk-container-id-2 pre {\n",
       "  padding: 0;\n",
       "}\n",
       "\n",
       "#sk-container-id-2 input.sk-hidden--visually {\n",
       "  border: 0;\n",
       "  clip: rect(1px 1px 1px 1px);\n",
       "  clip: rect(1px, 1px, 1px, 1px);\n",
       "  height: 1px;\n",
       "  margin: -1px;\n",
       "  overflow: hidden;\n",
       "  padding: 0;\n",
       "  position: absolute;\n",
       "  width: 1px;\n",
       "}\n",
       "\n",
       "#sk-container-id-2 div.sk-dashed-wrapped {\n",
       "  border: 1px dashed var(--sklearn-color-line);\n",
       "  margin: 0 0.4em 0.5em 0.4em;\n",
       "  box-sizing: border-box;\n",
       "  padding-bottom: 0.4em;\n",
       "  background-color: var(--sklearn-color-background);\n",
       "}\n",
       "\n",
       "#sk-container-id-2 div.sk-container {\n",
       "  /* jupyter's `normalize.less` sets `[hidden] { display: none; }`\n",
       "     but bootstrap.min.css set `[hidden] { display: none !important; }`\n",
       "     so we also need the `!important` here to be able to override the\n",
       "     default hidden behavior on the sphinx rendered scikit-learn.org.\n",
       "     See: https://github.com/scikit-learn/scikit-learn/issues/21755 */\n",
       "  display: inline-block !important;\n",
       "  position: relative;\n",
       "}\n",
       "\n",
       "#sk-container-id-2 div.sk-text-repr-fallback {\n",
       "  display: none;\n",
       "}\n",
       "\n",
       "div.sk-parallel-item,\n",
       "div.sk-serial,\n",
       "div.sk-item {\n",
       "  /* draw centered vertical line to link estimators */\n",
       "  background-image: linear-gradient(var(--sklearn-color-text-on-default-background), var(--sklearn-color-text-on-default-background));\n",
       "  background-size: 2px 100%;\n",
       "  background-repeat: no-repeat;\n",
       "  background-position: center center;\n",
       "}\n",
       "\n",
       "/* Parallel-specific style estimator block */\n",
       "\n",
       "#sk-container-id-2 div.sk-parallel-item::after {\n",
       "  content: \"\";\n",
       "  width: 100%;\n",
       "  border-bottom: 2px solid var(--sklearn-color-text-on-default-background);\n",
       "  flex-grow: 1;\n",
       "}\n",
       "\n",
       "#sk-container-id-2 div.sk-parallel {\n",
       "  display: flex;\n",
       "  align-items: stretch;\n",
       "  justify-content: center;\n",
       "  background-color: var(--sklearn-color-background);\n",
       "  position: relative;\n",
       "}\n",
       "\n",
       "#sk-container-id-2 div.sk-parallel-item {\n",
       "  display: flex;\n",
       "  flex-direction: column;\n",
       "}\n",
       "\n",
       "#sk-container-id-2 div.sk-parallel-item:first-child::after {\n",
       "  align-self: flex-end;\n",
       "  width: 50%;\n",
       "}\n",
       "\n",
       "#sk-container-id-2 div.sk-parallel-item:last-child::after {\n",
       "  align-self: flex-start;\n",
       "  width: 50%;\n",
       "}\n",
       "\n",
       "#sk-container-id-2 div.sk-parallel-item:only-child::after {\n",
       "  width: 0;\n",
       "}\n",
       "\n",
       "/* Serial-specific style estimator block */\n",
       "\n",
       "#sk-container-id-2 div.sk-serial {\n",
       "  display: flex;\n",
       "  flex-direction: column;\n",
       "  align-items: center;\n",
       "  background-color: var(--sklearn-color-background);\n",
       "  padding-right: 1em;\n",
       "  padding-left: 1em;\n",
       "}\n",
       "\n",
       "\n",
       "/* Toggleable style: style used for estimator/Pipeline/ColumnTransformer box that is\n",
       "clickable and can be expanded/collapsed.\n",
       "- Pipeline and ColumnTransformer use this feature and define the default style\n",
       "- Estimators will overwrite some part of the style using the `sk-estimator` class\n",
       "*/\n",
       "\n",
       "/* Pipeline and ColumnTransformer style (default) */\n",
       "\n",
       "#sk-container-id-2 div.sk-toggleable {\n",
       "  /* Default theme specific background. It is overwritten whether we have a\n",
       "  specific estimator or a Pipeline/ColumnTransformer */\n",
       "  background-color: var(--sklearn-color-background);\n",
       "}\n",
       "\n",
       "/* Toggleable label */\n",
       "#sk-container-id-2 label.sk-toggleable__label {\n",
       "  cursor: pointer;\n",
       "  display: block;\n",
       "  width: 100%;\n",
       "  margin-bottom: 0;\n",
       "  padding: 0.5em;\n",
       "  box-sizing: border-box;\n",
       "  text-align: center;\n",
       "}\n",
       "\n",
       "#sk-container-id-2 label.sk-toggleable__label-arrow:before {\n",
       "  /* Arrow on the left of the label */\n",
       "  content: \"▸\";\n",
       "  float: left;\n",
       "  margin-right: 0.25em;\n",
       "  color: var(--sklearn-color-icon);\n",
       "}\n",
       "\n",
       "#sk-container-id-2 label.sk-toggleable__label-arrow:hover:before {\n",
       "  color: var(--sklearn-color-text);\n",
       "}\n",
       "\n",
       "/* Toggleable content - dropdown */\n",
       "\n",
       "#sk-container-id-2 div.sk-toggleable__content {\n",
       "  max-height: 0;\n",
       "  max-width: 0;\n",
       "  overflow: hidden;\n",
       "  text-align: left;\n",
       "  /* unfitted */\n",
       "  background-color: var(--sklearn-color-unfitted-level-0);\n",
       "}\n",
       "\n",
       "#sk-container-id-2 div.sk-toggleable__content.fitted {\n",
       "  /* fitted */\n",
       "  background-color: var(--sklearn-color-fitted-level-0);\n",
       "}\n",
       "\n",
       "#sk-container-id-2 div.sk-toggleable__content pre {\n",
       "  margin: 0.2em;\n",
       "  border-radius: 0.25em;\n",
       "  color: var(--sklearn-color-text);\n",
       "  /* unfitted */\n",
       "  background-color: var(--sklearn-color-unfitted-level-0);\n",
       "}\n",
       "\n",
       "#sk-container-id-2 div.sk-toggleable__content.fitted pre {\n",
       "  /* unfitted */\n",
       "  background-color: var(--sklearn-color-fitted-level-0);\n",
       "}\n",
       "\n",
       "#sk-container-id-2 input.sk-toggleable__control:checked~div.sk-toggleable__content {\n",
       "  /* Expand drop-down */\n",
       "  max-height: 200px;\n",
       "  max-width: 100%;\n",
       "  overflow: auto;\n",
       "}\n",
       "\n",
       "#sk-container-id-2 input.sk-toggleable__control:checked~label.sk-toggleable__label-arrow:before {\n",
       "  content: \"▾\";\n",
       "}\n",
       "\n",
       "/* Pipeline/ColumnTransformer-specific style */\n",
       "\n",
       "#sk-container-id-2 div.sk-label input.sk-toggleable__control:checked~label.sk-toggleable__label {\n",
       "  color: var(--sklearn-color-text);\n",
       "  background-color: var(--sklearn-color-unfitted-level-2);\n",
       "}\n",
       "\n",
       "#sk-container-id-2 div.sk-label.fitted input.sk-toggleable__control:checked~label.sk-toggleable__label {\n",
       "  background-color: var(--sklearn-color-fitted-level-2);\n",
       "}\n",
       "\n",
       "/* Estimator-specific style */\n",
       "\n",
       "/* Colorize estimator box */\n",
       "#sk-container-id-2 div.sk-estimator input.sk-toggleable__control:checked~label.sk-toggleable__label {\n",
       "  /* unfitted */\n",
       "  background-color: var(--sklearn-color-unfitted-level-2);\n",
       "}\n",
       "\n",
       "#sk-container-id-2 div.sk-estimator.fitted input.sk-toggleable__control:checked~label.sk-toggleable__label {\n",
       "  /* fitted */\n",
       "  background-color: var(--sklearn-color-fitted-level-2);\n",
       "}\n",
       "\n",
       "#sk-container-id-2 div.sk-label label.sk-toggleable__label,\n",
       "#sk-container-id-2 div.sk-label label {\n",
       "  /* The background is the default theme color */\n",
       "  color: var(--sklearn-color-text-on-default-background);\n",
       "}\n",
       "\n",
       "/* On hover, darken the color of the background */\n",
       "#sk-container-id-2 div.sk-label:hover label.sk-toggleable__label {\n",
       "  color: var(--sklearn-color-text);\n",
       "  background-color: var(--sklearn-color-unfitted-level-2);\n",
       "}\n",
       "\n",
       "/* Label box, darken color on hover, fitted */\n",
       "#sk-container-id-2 div.sk-label.fitted:hover label.sk-toggleable__label.fitted {\n",
       "  color: var(--sklearn-color-text);\n",
       "  background-color: var(--sklearn-color-fitted-level-2);\n",
       "}\n",
       "\n",
       "/* Estimator label */\n",
       "\n",
       "#sk-container-id-2 div.sk-label label {\n",
       "  font-family: monospace;\n",
       "  font-weight: bold;\n",
       "  display: inline-block;\n",
       "  line-height: 1.2em;\n",
       "}\n",
       "\n",
       "#sk-container-id-2 div.sk-label-container {\n",
       "  text-align: center;\n",
       "}\n",
       "\n",
       "/* Estimator-specific */\n",
       "#sk-container-id-2 div.sk-estimator {\n",
       "  font-family: monospace;\n",
       "  border: 1px dotted var(--sklearn-color-border-box);\n",
       "  border-radius: 0.25em;\n",
       "  box-sizing: border-box;\n",
       "  margin-bottom: 0.5em;\n",
       "  /* unfitted */\n",
       "  background-color: var(--sklearn-color-unfitted-level-0);\n",
       "}\n",
       "\n",
       "#sk-container-id-2 div.sk-estimator.fitted {\n",
       "  /* fitted */\n",
       "  background-color: var(--sklearn-color-fitted-level-0);\n",
       "}\n",
       "\n",
       "/* on hover */\n",
       "#sk-container-id-2 div.sk-estimator:hover {\n",
       "  /* unfitted */\n",
       "  background-color: var(--sklearn-color-unfitted-level-2);\n",
       "}\n",
       "\n",
       "#sk-container-id-2 div.sk-estimator.fitted:hover {\n",
       "  /* fitted */\n",
       "  background-color: var(--sklearn-color-fitted-level-2);\n",
       "}\n",
       "\n",
       "/* Specification for estimator info (e.g. \"i\" and \"?\") */\n",
       "\n",
       "/* Common style for \"i\" and \"?\" */\n",
       "\n",
       ".sk-estimator-doc-link,\n",
       "a:link.sk-estimator-doc-link,\n",
       "a:visited.sk-estimator-doc-link {\n",
       "  float: right;\n",
       "  font-size: smaller;\n",
       "  line-height: 1em;\n",
       "  font-family: monospace;\n",
       "  background-color: var(--sklearn-color-background);\n",
       "  border-radius: 1em;\n",
       "  height: 1em;\n",
       "  width: 1em;\n",
       "  text-decoration: none !important;\n",
       "  margin-left: 1ex;\n",
       "  /* unfitted */\n",
       "  border: var(--sklearn-color-unfitted-level-1) 1pt solid;\n",
       "  color: var(--sklearn-color-unfitted-level-1);\n",
       "}\n",
       "\n",
       ".sk-estimator-doc-link.fitted,\n",
       "a:link.sk-estimator-doc-link.fitted,\n",
       "a:visited.sk-estimator-doc-link.fitted {\n",
       "  /* fitted */\n",
       "  border: var(--sklearn-color-fitted-level-1) 1pt solid;\n",
       "  color: var(--sklearn-color-fitted-level-1);\n",
       "}\n",
       "\n",
       "/* On hover */\n",
       "div.sk-estimator:hover .sk-estimator-doc-link:hover,\n",
       ".sk-estimator-doc-link:hover,\n",
       "div.sk-label-container:hover .sk-estimator-doc-link:hover,\n",
       ".sk-estimator-doc-link:hover {\n",
       "  /* unfitted */\n",
       "  background-color: var(--sklearn-color-unfitted-level-3);\n",
       "  color: var(--sklearn-color-background);\n",
       "  text-decoration: none;\n",
       "}\n",
       "\n",
       "div.sk-estimator.fitted:hover .sk-estimator-doc-link.fitted:hover,\n",
       ".sk-estimator-doc-link.fitted:hover,\n",
       "div.sk-label-container:hover .sk-estimator-doc-link.fitted:hover,\n",
       ".sk-estimator-doc-link.fitted:hover {\n",
       "  /* fitted */\n",
       "  background-color: var(--sklearn-color-fitted-level-3);\n",
       "  color: var(--sklearn-color-background);\n",
       "  text-decoration: none;\n",
       "}\n",
       "\n",
       "/* Span, style for the box shown on hovering the info icon */\n",
       ".sk-estimator-doc-link span {\n",
       "  display: none;\n",
       "  z-index: 9999;\n",
       "  position: relative;\n",
       "  font-weight: normal;\n",
       "  right: .2ex;\n",
       "  padding: .5ex;\n",
       "  margin: .5ex;\n",
       "  width: min-content;\n",
       "  min-width: 20ex;\n",
       "  max-width: 50ex;\n",
       "  color: var(--sklearn-color-text);\n",
       "  box-shadow: 2pt 2pt 4pt #999;\n",
       "  /* unfitted */\n",
       "  background: var(--sklearn-color-unfitted-level-0);\n",
       "  border: .5pt solid var(--sklearn-color-unfitted-level-3);\n",
       "}\n",
       "\n",
       ".sk-estimator-doc-link.fitted span {\n",
       "  /* fitted */\n",
       "  background: var(--sklearn-color-fitted-level-0);\n",
       "  border: var(--sklearn-color-fitted-level-3);\n",
       "}\n",
       "\n",
       ".sk-estimator-doc-link:hover span {\n",
       "  display: block;\n",
       "}\n",
       "\n",
       "/* \"?\"-specific style due to the `<a>` HTML tag */\n",
       "\n",
       "#sk-container-id-2 a.estimator_doc_link {\n",
       "  float: right;\n",
       "  font-size: 1rem;\n",
       "  line-height: 1em;\n",
       "  font-family: monospace;\n",
       "  background-color: var(--sklearn-color-background);\n",
       "  border-radius: 1rem;\n",
       "  height: 1rem;\n",
       "  width: 1rem;\n",
       "  text-decoration: none;\n",
       "  /* unfitted */\n",
       "  color: var(--sklearn-color-unfitted-level-1);\n",
       "  border: var(--sklearn-color-unfitted-level-1) 1pt solid;\n",
       "}\n",
       "\n",
       "#sk-container-id-2 a.estimator_doc_link.fitted {\n",
       "  /* fitted */\n",
       "  border: var(--sklearn-color-fitted-level-1) 1pt solid;\n",
       "  color: var(--sklearn-color-fitted-level-1);\n",
       "}\n",
       "\n",
       "/* On hover */\n",
       "#sk-container-id-2 a.estimator_doc_link:hover {\n",
       "  /* unfitted */\n",
       "  background-color: var(--sklearn-color-unfitted-level-3);\n",
       "  color: var(--sklearn-color-background);\n",
       "  text-decoration: none;\n",
       "}\n",
       "\n",
       "#sk-container-id-2 a.estimator_doc_link.fitted:hover {\n",
       "  /* fitted */\n",
       "  background-color: var(--sklearn-color-fitted-level-3);\n",
       "}\n",
       "</style><div id=\"sk-container-id-2\" class=\"sk-top-container\"><div class=\"sk-text-repr-fallback\"><pre>KNeighborsClassifier()</pre><b>In a Jupyter environment, please rerun this cell to show the HTML representation or trust the notebook. <br />On GitHub, the HTML representation is unable to render, please try loading this page with nbviewer.org.</b></div><div class=\"sk-container\" hidden><div class=\"sk-item\"><div class=\"sk-estimator fitted sk-toggleable\"><input class=\"sk-toggleable__control sk-hidden--visually\" id=\"sk-estimator-id-2\" type=\"checkbox\" checked><label for=\"sk-estimator-id-2\" class=\"sk-toggleable__label fitted sk-toggleable__label-arrow fitted\">&nbsp;&nbsp;KNeighborsClassifier<a class=\"sk-estimator-doc-link fitted\" rel=\"noreferrer\" target=\"_blank\" href=\"https://scikit-learn.org/1.4/modules/generated/sklearn.neighbors.KNeighborsClassifier.html\">?<span>Documentation for KNeighborsClassifier</span></a><span class=\"sk-estimator-doc-link fitted\">i<span>Fitted</span></span></label><div class=\"sk-toggleable__content fitted\"><pre>KNeighborsClassifier()</pre></div> </div></div></div></div>"
      ],
      "text/plain": [
       "KNeighborsClassifier()"
      ]
     },
     "execution_count": 791,
     "metadata": {},
     "output_type": "execute_result"
    }
   ],
   "source": [
    "modelKNN.fit(X = X_train_scaled_fs, y = y_train)"
   ]
  },
  {
   "cell_type": "code",
   "execution_count": null,
   "id": "479986e1-d881-40b6-8b6a-dee768871516",
   "metadata": {},
   "outputs": [],
   "source": [
    "y_pred_train = modelKNN.predict(X_train_scaled_fs)\n",
    "y_pred_val = modelKNN.predict(X_val_scaled_fs)"
   ]
  },
  {
   "cell_type": "code",
   "execution_count": null,
   "id": "93bfec9c-bbd8-4b1b-9924-d8cf7f27c435",
   "metadata": {},
   "outputs": [],
   "source": [
    "modelKNN.predict_proba(X_val_scaled_fs)"
   ]
  },
  {
   "cell_type": "code",
   "execution_count": null,
   "id": "eb91fed7-83a2-4508-bbde-0be7b1c3bfbb",
   "metadata": {},
   "outputs": [],
   "source": [
    "print(modelKNN.score(X_train_scaled_fs, y_pred_train))"
   ]
  },
  {
   "cell_type": "code",
   "execution_count": null,
   "id": "722d9f84",
   "metadata": {},
   "outputs": [],
   "source": [
    "print(modelKNN.score(X_val_scaled_fs, y_pred_val))"
   ]
  },
  {
   "cell_type": "code",
   "execution_count": null,
   "id": "fc2873cf-bf83-4375-9504-c9f7b27717ff",
   "metadata": {},
   "outputs": [],
   "source": [
    "confusion_matrix(y_val, labels_val)"
   ]
  },
  {
   "cell_type": "code",
   "execution_count": null,
   "id": "17608b83-d459-4421-bf0f-66babb52643e",
   "metadata": {},
   "outputs": [],
   "source": [
    "# Check class distribution\n",
    "print(\"True class distribution in y_val:\", pd.Series(y_val).value_counts())\n",
    "print(\"Predicted class distribution in y_pred:\", pd.Series(y_pred_val).value_counts())"
   ]
  },
  {
   "cell_type": "code",
   "execution_count": null,
   "id": "bb942956-0286-4c57-9093-81c527ce000e",
   "metadata": {},
   "outputs": [],
   "source": [
    "accuracy_score(y_val, y_pred_val)"
   ]
  },
  {
   "cell_type": "code",
   "execution_count": null,
   "id": "55cb3874-1fba-40c3-8d76-911da79df814",
   "metadata": {},
   "outputs": [],
   "source": [
    "precision_score(y_val, y_pred_val, average='macro')"
   ]
  },
  {
   "cell_type": "code",
   "execution_count": null,
   "id": "d79b4eab-72e2-437f-acb6-69f99cf9045f",
   "metadata": {},
   "outputs": [],
   "source": [
    "recall_score(y_val, y_pred_val, average='macro')"
   ]
  },
  {
   "cell_type": "code",
   "execution_count": null,
   "id": "d1deacb6-bc7f-4827-8ce9-d6eb256146fc",
   "metadata": {},
   "outputs": [],
   "source": [
    "f1_score(y_val, y_pred_val, average='macro')"
   ]
  },
  {
   "cell_type": "markdown",
   "id": "8367b8b2-790d-4d43-bb66-0f24f1854849",
   "metadata": {},
   "source": [
    "## Logistic Regression"
   ]
  },
  {
   "cell_type": "code",
   "execution_count": null,
   "id": "e310833d-1aad-40a0-bc58-24e9ad621e55",
   "metadata": {},
   "outputs": [],
   "source": [
    "log_model = LogisticRegression(\n",
    "    solver='saga',         # Efficient solver for large datasets\n",
    "    multi_class='multinomial',  # Better for multi-class problems\n",
    "    penalty='l2',          # Use L2 regularization\n",
    "    C=1.0,                 # Default regularization strength\n",
    "    max_iter=500,          # Increase max iterations\n",
    "    class_weight='balanced',  # Handle class imbalance\n",
    "    n_jobs=-1,             # Use all CPU cores for computation\n",
    "    random_state=42,       # Reproducibility\n",
    "    verbose=1              # Monitor training progress\n",
    ")"
   ]
  },
  {
   "cell_type": "code",
   "execution_count": null,
   "id": "065b1e81-4e68-4e8e-8424-6d5d6d196c27",
   "metadata": {},
   "outputs": [],
   "source": [
    "log_model.fit(X_train_scaled_fs,y_train)"
   ]
  },
  {
   "cell_type": "code",
   "execution_count": null,
   "id": "c77e3b85-9b94-43eb-aeb6-e988265eef9c",
   "metadata": {},
   "outputs": [],
   "source": [
    "y_pred_train=log_model.predict(X_train_scaled_fs)\n",
    "y_pred = log_model.predict(X_val_scaled_fs)\n",
    "y_pred"
   ]
  },
  {
   "cell_type": "code",
   "execution_count": null,
   "id": "25122cfd-f6c9-4824-8a33-0df0db780a39",
   "metadata": {},
   "outputs": [],
   "source": [
    "# Check class distribution\n",
    "print(\"True class distribution in y_val:\", pd.Series(y_val).value_counts())\n",
    "print(\"Predicted class distribution in y_pred:\", pd.Series(y_pred).value_counts())"
   ]
  },
  {
   "cell_type": "code",
   "execution_count": null,
   "id": "f215164e-d14b-4806-b3bb-009f5180575a",
   "metadata": {},
   "outputs": [],
   "source": [
    "# Compute accuracy score for training data\n",
    "train_score = log_model.score(X_train_scaled_fs, y_train)\n",
    "\n",
    "# Compute accuracy score for validation data\n",
    "val_score = log_model.score(X_val_scaled_fs, y_val)\n",
    "\n",
    "# Print the scores\n",
    "print(\"Logistic Regression Training Accuracy:\", train_score)\n",
    "print(\"Logistic Regression Validation Accuracy:\", val_score)"
   ]
  },
  {
   "cell_type": "code",
   "execution_count": null,
   "id": "0096fc56-fd5d-49d8-8332-b54a2fcecfa9",
   "metadata": {},
   "outputs": [],
   "source": [
    "accuracy_score(y_val, y_pred)"
   ]
  },
  {
   "cell_type": "code",
   "execution_count": null,
   "id": "84006980-be05-4985-ad7c-19ff68022d2e",
   "metadata": {},
   "outputs": [],
   "source": [
    "precision_score(y_val, y_pred, average='macro')"
   ]
  },
  {
   "cell_type": "code",
   "execution_count": null,
   "id": "df9902bf-6cbc-436b-bd26-1cd1dc45764a",
   "metadata": {},
   "outputs": [],
   "source": [
    "recall_score(y_val, y_pred, average='macro')"
   ]
  },
  {
   "cell_type": "code",
   "execution_count": null,
   "id": "c3a28672-c7bf-4265-940f-049e5229c17d",
   "metadata": {},
   "outputs": [],
   "source": [
    "f1_score(y_val, y_pred, average='macro')"
   ]
  },
  {
   "cell_type": "markdown",
   "id": "bae13efb-5333-48b3-8c20-d959b66f7916",
   "metadata": {},
   "source": [
    "### Using RFE's Feature Selection"
   ]
  },
  {
   "cell_type": "code",
   "execution_count": null,
   "id": "acf41568-2633-4566-9832-d1e85d5bf951",
   "metadata": {},
   "outputs": [],
   "source": [
    "log_model.fit(X_train_scaled_lr,y_train)"
   ]
  },
  {
   "cell_type": "code",
   "execution_count": null,
   "id": "a2dbefce-696e-4a43-a5f8-66d0692d2811",
   "metadata": {},
   "outputs": [],
   "source": [
    "y_pred_train=log_model.predict(X_train_scaled_lr)\n",
    "y_pred = log_model.predict(X_val_scaled_lr)\n",
    "y_pred"
   ]
  },
  {
   "cell_type": "code",
   "execution_count": null,
   "id": "26570413-edc6-4139-aafb-d1ecb9ef3f54",
   "metadata": {},
   "outputs": [],
   "source": [
    "# Check class distribution\n",
    "print(\"True class distribution in y_val:\", pd.Series(y_val).value_counts())\n",
    "print(\"Predicted class distribution in y_pred:\", pd.Series(y_pred).value_counts())"
   ]
  },
  {
   "cell_type": "code",
   "execution_count": null,
   "id": "b5a6f982-fa20-4b90-ae72-acf7875ecb4f",
   "metadata": {},
   "outputs": [],
   "source": [
    "# Compute accuracy score for training data\n",
    "train_score = log_model.score(X_train_scaled_lr, y_train)\n",
    "\n",
    "# Compute accuracy score for validation data\n",
    "val_score = log_model.score(X_val_scaled_lr, y_val)\n",
    "\n",
    "# Print the scores\n",
    "print(\"Logistic Regression Training Accuracy:\", train_score)\n",
    "print(\"Logistic Regression Validation Accuracy:\", val_score)"
   ]
  },
  {
   "cell_type": "code",
   "execution_count": null,
   "id": "9305fcac-f913-433b-afc3-2ba5dd2e75d7",
   "metadata": {},
   "outputs": [],
   "source": [
    "accuracy_score(y_val, y_pred)"
   ]
  },
  {
   "cell_type": "code",
   "execution_count": null,
   "id": "b26e45f9-ca5f-4c79-a164-a9a1cb4dbfcd",
   "metadata": {},
   "outputs": [],
   "source": [
    "precision_score(y_val, y_pred, average='macro')"
   ]
  },
  {
   "cell_type": "code",
   "execution_count": null,
   "id": "8eb539a5-88fc-44ed-ba58-b4a6bd9678e1",
   "metadata": {},
   "outputs": [],
   "source": [
    "recall_score(y_val, y_pred, average='macro')"
   ]
  },
  {
   "cell_type": "code",
   "execution_count": null,
   "id": "ad0fbadd-6d1e-4743-bf42-62bb592b2188",
   "metadata": {},
   "outputs": [],
   "source": [
    "f1_score(y_val, y_pred, average='macro')"
   ]
  },
  {
   "cell_type": "code",
   "execution_count": null,
   "id": "05a453b3-5493-4bc4-a7e5-772a1c82d920",
   "metadata": {
    "scrolled": true
   },
   "outputs": [],
   "source": [
    "metrics(y_train = y_train, pred_train = y_pred_train, y_val = y_val, pred_val = y_pred)"
   ]
  },
  {
   "cell_type": "markdown",
   "id": "5400863f-6bab-4d3f-9d34-462582294a7c",
   "metadata": {},
   "source": [
    "## Support Vector Machines"
   ]
  },
  {
   "cell_type": "code",
   "execution_count": null,
   "id": "883ff1b3-9b6d-4ac2-a22d-9399f2d480d7",
   "metadata": {},
   "outputs": [],
   "source": [
    "SVC_model = SVC(kernel='linear')"
   ]
  },
  {
   "cell_type": "code",
   "execution_count": null,
   "id": "6c9bd570-c7cf-4c56-aeba-182ae4831981",
   "metadata": {},
   "outputs": [],
   "source": [
    "y_pred_train=SVC_model.predict(X_train_scaled_fs)\n",
    "y_pred = SVC_model.predict(X_val_scaled_fs)\n",
    "y_pred"
   ]
  },
  {
   "cell_type": "code",
   "execution_count": null,
   "id": "f3e60034-96ba-4a67-8fb8-d299aa597ca0",
   "metadata": {},
   "outputs": [],
   "source": [
    "# Check class distribution\n",
    "print(\"True class distribution in y_val:\", pd.Series(y_val).value_counts())\n",
    "print(\"Predicted class distribution in y_pred:\", pd.Series(y_pred).value_counts())"
   ]
  },
  {
   "cell_type": "code",
   "execution_count": null,
   "id": "6ce88798-e18d-4bb0-b954-2dc36cd1d018",
   "metadata": {},
   "outputs": [],
   "source": [
    "# Compute accuracy score for training data\n",
    "train_score = SVC_model.score(X_train_scaled_fs, y_train)\n",
    "\n",
    "# Compute accuracy score for validation data\n",
    "val_score = SVC_model.score(X_val_scaled_fs, y_val)\n",
    "\n",
    "# Print the scores\n",
    "print(\"Logistic Regression Training Accuracy:\", train_score)\n",
    "print(\"Logistic Regression Validation Accuracy:\", val_score)"
   ]
  },
  {
   "cell_type": "code",
   "execution_count": null,
   "id": "8498d315-9762-4eeb-b5ef-1b40e8e3b3e1",
   "metadata": {},
   "outputs": [],
   "source": [
    "accuracy_score(y_val, y_pred)"
   ]
  },
  {
   "cell_type": "code",
   "execution_count": null,
   "id": "d6042592-56a7-4762-b69e-2dc5a00b6fa3",
   "metadata": {},
   "outputs": [],
   "source": [
    "precision_score(y_val, y_pred, average='macro')"
   ]
  },
  {
   "cell_type": "code",
   "execution_count": null,
   "id": "0f9ee43c-d810-4071-9e7e-cde02305d488",
   "metadata": {},
   "outputs": [],
   "source": [
    "recall_score(y_val, y_pred, average='macro')"
   ]
  },
  {
   "cell_type": "code",
   "execution_count": null,
   "id": "a815df95-54b6-4889-a492-3ab528716a5d",
   "metadata": {},
   "outputs": [],
   "source": [
    "f1_score(y_val, y_pred, average='macro')"
   ]
  },
  {
   "cell_type": "code",
   "execution_count": null,
   "id": "ce36081e-ba15-44cf-9a66-b89cd4332db1",
   "metadata": {},
   "outputs": [],
   "source": [
    "metrics(y_train = y_train, pred_train = y_pred_train, y_val = y_val, pred_val = y_pred)"
   ]
  },
  {
   "cell_type": "markdown",
   "id": "1df396f3-d62f-4cc4-9eef-0c6cdf560728",
   "metadata": {},
   "source": [
    "## Naive Bayes"
   ]
  },
  {
   "cell_type": "code",
   "execution_count": null,
   "id": "acda98cc-7bfc-4b15-bcf9-9be652432275",
   "metadata": {},
   "outputs": [],
   "source": [
    "f1_scores_train = []\n",
    "f1_scores_val = []\n",
    "\n",
    "# Set up StratifiedKFold \n",
    "k = 10\n",
    "skf = StratifiedKFold(n_splits=k, shuffle=True, random_state=42)\n",
    "\n",
    "# For each fold\n",
    "for train_index, val_index in skf.split(X_train_val, y_train_val):\n",
    "    \n",
    "    #split between training and val\n",
    "    X_train, y_train = X_train_val.iloc[train_index], y_train_val.iloc[train_index]  \n",
    "    X_val, y_val = X_train_val.iloc[val_index], y_train_val.iloc[val_index]  \n",
    "\n",
    "    # Create a Naive Bayes model\n",
    "    nb_model = GaussianNB()\n",
    "    nb_model.fit(X_train_val, y_train_val)\n",
    "\n",
    "    # Predictions on training set\n",
    "    y_train_pred = nb_model.predict(X_train_val)\n",
    "    f1_train = f1_score(y_train, y_train_pred)\n",
    "    f1_scores_train.append(f1_train)\n",
    "\n",
    "    # Predictions on validation set\n",
    "    y_val_pred = nb_model.predict(X_test)  \n",
    "    f1_val = f1_score(y_test, y_val_pred) \n",
    "    f1_scores_val.append(f1_val)\n",
    "\n",
    "# Output the mean F1 scores\n",
    "print(\"Mean F1 Score on Training Set:\", np.mean(f1_scores_train))\n",
    "print(\"Mean F1 Score on Validation Set:\", np.mean(f1_scores_val))"
   ]
  },
  {
   "cell_type": "markdown",
   "id": "ae5e44d4-e581-4060-acd0-df0cd806f3f4",
   "metadata": {},
   "source": [
    "# 7.Final Prediction"
   ]
  },
  {
   "cell_type": "code",
   "execution_count": 726,
   "id": "ac81645e-4d10-436b-9976-84e7bcb85b3f",
   "metadata": {},
   "outputs": [],
   "source": [
    "model_rf = RandomForestClassifier(\n",
    "    n_estimators=300,\n",
    "    max_depth=20, # MISSING: Best Practice: Use cross-validation to determine the optimal depth.\n",
    "    min_samples_split=5,\n",
    "    min_samples_leaf=2,\n",
    "    max_features='sqrt',\n",
    "    class_weight='balanced',\n",
    "    random_state=42)\n",
    "\n",
    "model_rf.fit(X_train_scaled_fs, y_train)\n",
    "\n",
    "y_pred_test = model_rf.predict(X_test_scaled_fs)"
   ]
  },
  {
   "cell_type": "code",
   "execution_count": 735,
   "id": "7df6056b-c0a5-40a0-9ac1-9aeaee2faa8a",
   "metadata": {},
   "outputs": [
    {
     "name": "stdout",
     "output_type": "stream",
     "text": [
      "Class distribution in y_val: Claim Injury Type\n",
      "2    58216\n",
      "4    29702\n",
      "3    13781\n",
      "5     9656\n",
      "1     2496\n",
      "6      842\n",
      "8       94\n",
      "7       19\n",
      "Name: count, dtype: int64\n",
      "Class distribution in y_pred_test: 2    282235\n",
      "4     62713\n",
      "3     29440\n",
      "1      9711\n",
      "5      3812\n",
      "8        56\n",
      "6         8\n",
      "Name: count, dtype: int64\n"
     ]
    }
   ],
   "source": [
    "print(\"Class distribution in y_val:\", y_val.value_counts())\n",
    "print(\"Class distribution in y_pred_test:\", pd.Series(y_pred_test).value_counts())"
   ]
  },
  {
   "cell_type": "code",
   "execution_count": 767,
   "id": "6fea4b45-060d-49df-8ddf-6c6daea79a56",
   "metadata": {},
   "outputs": [
    {
     "data": {
      "text/plain": [
       "0          2. NON-COMP\n",
       "1         4. TEMPORARY\n",
       "2          2. NON-COMP\n",
       "3          2. NON-COMP\n",
       "4          2. NON-COMP\n",
       "              ...     \n",
       "387970     3. MED ONLY\n",
       "387971    1. CANCELLED\n",
       "387972    1. CANCELLED\n",
       "387973    1. CANCELLED\n",
       "387974    1. CANCELLED\n",
       "Length: 387975, dtype: object"
      ]
     },
     "execution_count": 767,
     "metadata": {},
     "output_type": "execute_result"
    }
   ],
   "source": [
    "y_pred_test_series = pd.Series(y_pred_test)\n",
    "\n",
    "y_pred_test_series = y_pred_test_series.astype(int)\n",
    "\n",
    "y_pred_test_series = y_pred_test_series.replace({\n",
    "    1: '1. CANCELLED',\n",
    "    2: '2. NON-COMP',\n",
    "    3: '3. MED ONLY',\n",
    "    4: '4. TEMPORARY',\n",
    "    5: '5. PPD SCH LOSS',\n",
    "    6: '6. PPD NSL',\n",
    "    7: '7. PTD',\n",
    "    8: '8. DEATH'})\n",
    "\n",
    "y_pred_test_series"
   ]
  },
  {
   "cell_type": "code",
   "execution_count": 769,
   "id": "6c64a597-3d29-4713-8b2f-aed7a887e8e7",
   "metadata": {},
   "outputs": [
    {
     "name": "stdout",
     "output_type": "stream",
     "text": [
      "Arquivo exportado como submission2.csv\n"
     ]
    }
   ],
   "source": [
    "# Convert y_pred_test to a pandas Series if it's not already\n",
    "y_pred_test_series = pd.Series(y_pred_test_series, index=X_test.index)\n",
    "\n",
    "# Combine 'Claim Identifier' from X_test and the predictions from y_pred_test_series\n",
    "submission2 = pd.DataFrame({\n",
    "    'Claim Identifier': X_test_copy['Claim Identifier'],  # 'Claim Identifier' from X_test\n",
    "    'Claim Injury Type': y_pred_test_series  # Your predictions\n",
    "})\n",
    "\n",
    "# Export the combined DataFrame to CSV\n",
    "submission2.to_csv(\"submission2.csv\", index=False)\n",
    "\n",
    "# Print confirmation message\n",
    "print(\"Arquivo exportado como submission2.csv\")"
   ]
  },
  {
   "cell_type": "code",
   "execution_count": 755,
   "id": "1d742487-772f-4620-9f68-b83634561e51",
   "metadata": {},
   "outputs": [
    {
     "data": {
      "text/plain": [
       "(387975,)"
      ]
     },
     "execution_count": 755,
     "metadata": {},
     "output_type": "execute_result"
    }
   ],
   "source": [
    "y_pred_test_series.shape"
   ]
  },
  {
   "cell_type": "code",
   "execution_count": null,
   "id": "280078c2-9aff-44c5-bd23-6860280b7f05",
   "metadata": {},
   "outputs": [],
   "source": []
  }
 ],
 "metadata": {
  "kernelspec": {
   "display_name": "Python 3 (ipykernel)",
   "language": "python",
   "name": "python3"
  },
  "language_info": {
   "codemirror_mode": {
    "name": "ipython",
    "version": 3
   },
   "file_extension": ".py",
   "mimetype": "text/x-python",
   "name": "python",
   "nbconvert_exporter": "python",
   "pygments_lexer": "ipython3",
   "version": "3.12.4"
  }
 },
 "nbformat": 4,
 "nbformat_minor": 5
}
